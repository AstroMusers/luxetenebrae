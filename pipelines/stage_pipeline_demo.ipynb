{
 "cells": [
  {
   "cell_type": "markdown",
   "id": "6002215a",
   "metadata": {},
   "source": [
    "# Detailed Evolution Pipeline Demo\n",
    "\n",
    "This notebook explains and demonstrates how to run each `stage_` script in the `detailed_evolution` folder of the `luxetenebrae` repository. It is designed to help new users understand and execute the full pipeline step by step.\n",
    "\n",
    "---\n",
    "\n",
    "## 1. Run the simulation script\n",
    "Import Python libraries such as `os`, `subprocess`, and others needed to interact with the filesystem and execute scripts. Set the working directory."
   ]
  },
  {
   "cell_type": "code",
   "execution_count": 2,
   "id": "6f6c336d",
   "metadata": {},
   "outputs": [
    {
     "name": "stdout",
     "output_type": "stream",
     "text": [
      "Current directory: /data/a.saricaoglu/repo/COMPAS/luxetenebrae\n",
      "Working in: /data/a.saricaoglu/repo/COMPAS/luxetenebrae/scripts/detailed_evolution\n",
      "Current working directory: /data/a.saricaoglu/repo/COMPAS/luxetenebrae/scripts/detailed_evolution\n"
     ]
    }
   ],
   "source": [
    "import os\n",
    "import subprocess\n",
    "import glob\n",
    "from pathlib import Path\n",
    "\n",
    "# Set the path to the detailed_evolution folder\n",
    "HERE = os.path.dirname(os.getcwd())\n",
    "print(f\"Current directory: {HERE}\")\n",
    "STAGE_DIR = os.path.join(HERE, \"scripts\", \"detailed_evolution\")\n",
    "print(f\"Working in: {STAGE_DIR}\")\n",
    "os.chdir(STAGE_DIR)\n",
    "print(\"Current working directory:\", os.getcwd())"
   ]
  },
  {
   "cell_type": "markdown",
   "id": "2c55138a",
   "metadata": {},
   "source": [
    "The config file (my_compasConfigDefault.yaml) is used to set the options for COMPAS. You can change the options in the config file to customize the runs. \n",
    "In config file, number of systems each run is set to 1000. Therefore, total number of systems generated with this script will be 1000 * number_of_runs.\n",
    "If you want to change the number of runs, change the number_of_runs variable.\n",
    "If you want to change the number of systems per run, change the value in the config file  under numericalChoices -> '--number-of-systems'.\n",
    "Detailed outputs is enabled by default in the config file, so you will get detailed outputs for each run. Change the option from 'True' to 'False' in the config file if you want to disable detailed outputs.\n",
    "The output directory is set to the current working directory by default. You can change the output directory by setting the environment variable COMPAS_LOGS_OUTPUT_DIR_PATH or by changing the value in the config file under stringChoices -> '--output-path'.\n",
    "Depending on your choices in the config file, you can keep track of important changes or categorise the runs by changing the mode variable below. In this way runs with different configurations can be stored in different directories."
   ]
  },
  {
   "cell_type": "code",
   "execution_count": null,
   "id": "364086d4",
   "metadata": {},
   "outputs": [
    {
     "name": "stdout",
     "output_type": "stream",
     "text": [
      "Total number of systems: 1000\n",
      "Number of runs: 10\n",
      "\n",
      "python: can't open file '/data/a.saricaoglu/repo/COMPAS/luxetenebrae/scripts/detailed_evolution/detailed_evolution/Stage_00_run_COMPAS_simulation.py': [Errno 2] No such file or directory\n",
      "\n"
     ]
    }
   ],
   "source": [
    "total_systems = 1000  # Set the total number of systems\n",
    "number_of_runs = total_systems // 100  # Assuming each run generates 1000 systems\n",
    "print(f\"Total number of systems: {total_systems}\")\n",
    "print(f\"Number of runs: {number_of_runs}\")\n",
    "mode = 'WD_Enabled_Detailed'\n",
    "\n",
    "import subprocess\n",
    "result = subprocess.run(\n",
    "    [\"python\", \"Stage_00_run_COMPAS_simulation.py\", \"--number_of_runs\", str(number_of_runs), \"--mode\", mode],\n",
    "    capture_output=True, text=True\n",
    ")\n",
    "print(result.stdout)\n",
    "print(result.stderr)  # This will show error messages if any"
   ]
  },
  {
   "cell_type": "code",
   "execution_count": null,
   "id": "69120358",
   "metadata": {},
   "outputs": [],
   "source": []
  },
  {
   "cell_type": "markdown",
   "id": "9eb8d509",
   "metadata": {},
   "source": [
    "## 2. List and Explore stage_ Scripts in the Detailed Evolution Folder\n",
    "\n",
    "This section lists all Python scripts in the folder that match the pattern `stage_*.py` and displays their names. Optionally, it will show the first docstring or comment from each script as a description."
   ]
  },
  {
   "cell_type": "code",
   "execution_count": null,
   "id": "cb7a887a",
   "metadata": {},
   "outputs": [],
   "source": [
    "stage_scripts = sorted(glob.glob(str(stage_dir / 'stage_*.py')))\n",
    "\n",
    "print(\"Discovered stage_ scripts:\")\n",
    "for script in stage_scripts:\n",
    "    print(f\"- {os.path.basename(script)}\")\n",
    "    # Try to show the first docstring or comment\n",
    "    with open(script) as f:\n",
    "        for line in f:\n",
    "            if line.strip().startswith('\"\"\"') or line.strip().startswith(\"'''\"):\n",
    "                print(\"  Description:\", line.strip().strip('\"\\' '))\n",
    "                break\n",
    "            elif line.strip().startswith('#'):\n",
    "                print(\"  Comment:\", line.strip().lstrip('#').strip())\n",
    "                break"
   ]
  },
  {
   "cell_type": "markdown",
   "id": "49dd1f2f",
   "metadata": {},
   "source": [
    "## 3. Execute Each stage_ Script Sequentially\n",
    "\n",
    "This section will execute each discovered `stage_` script one by one using `subprocess`. The output of each script will be captured for further analysis."
   ]
  },
  {
   "cell_type": "code",
   "execution_count": null,
   "id": "ee0db6db",
   "metadata": {},
   "outputs": [],
   "source": [
    "outputs = {}\n",
    "for script in stage_scripts:\n",
    "    print(f\"\\nRunning {os.path.basename(script)}...\")\n",
    "    result = subprocess.run(['python', script], capture_output=True, text=True)\n",
    "    outputs[script] = result.stdout\n",
    "    print(result.stdout)\n",
    "    if result.stderr:\n",
    "        print(\"[stderr]\", result.stderr)\n"
   ]
  },
  {
   "cell_type": "markdown",
   "id": "17ad5c2f",
   "metadata": {},
   "source": [
    "## 4. Display and Analyze Output from Each stage_ Script\n",
    "\n",
    "This section displays the output from each script execution. You can also add code to analyze or visualize the results if the scripts produce data or logs."
   ]
  },
  {
   "cell_type": "code",
   "execution_count": null,
   "id": "93fb283a",
   "metadata": {},
   "outputs": [],
   "source": [
    "for script, output in outputs.items():\n",
    "    print(f\"\\nOutput from {os.path.basename(script)}:\")\n",
    "    print(output)\n",
    "    # Optionally, add code here to analyze or visualize the output if needed"
   ]
  }
 ],
 "metadata": {
  "kernelspec": {
   "display_name": "compas",
   "language": "python",
   "name": "python3"
  },
  "language_info": {
   "codemirror_mode": {
    "name": "ipython",
    "version": 3
   },
   "file_extension": ".py",
   "mimetype": "text/x-python",
   "name": "python",
   "nbconvert_exporter": "python",
   "pygments_lexer": "ipython3",
   "version": "3.12.8"
  }
 },
 "nbformat": 4,
 "nbformat_minor": 5
}
